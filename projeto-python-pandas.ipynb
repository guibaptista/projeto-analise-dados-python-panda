{
 "cells": [
  {
   "cell_type": "code",
   "execution_count": 101,
   "id": "c1f391ea",
   "metadata": {},
   "outputs": [],
   "source": [
    "import pandas as pd"
   ]
  },
  {
   "cell_type": "code",
   "execution_count": 102,
   "id": "5100200c",
   "metadata": {},
   "outputs": [],
   "source": [
    "import matplotlib.pyplot as plt"
   ]
  },
  {
   "cell_type": "code",
   "execution_count": 103,
   "id": "5301570b",
   "metadata": {},
   "outputs": [],
   "source": [
    "df_aracaju = pd.read_excel(\"Aracaju.xlsx\")\n",
    "df_fortaleza = pd.read_excel(\"Fortaleza.xlsx\")\n",
    "df_natal = pd.read_excel(\"Natal.xlsx\")\n",
    "df_recife = pd.read_excel(\"Recife.xlsx\")\n",
    "df_salvador = pd.read_excel(\"Salvador.xlsx\")"
   ]
  },
  {
   "cell_type": "code",
   "execution_count": 104,
   "id": "a4c44d10",
   "metadata": {},
   "outputs": [],
   "source": [
    "df = pd.concat([df_aracaju,df_fortaleza,df_natal,df_recife,df_salvador])"
   ]
  },
  {
   "cell_type": "code",
   "execution_count": 105,
   "id": "88bcb124",
   "metadata": {},
   "outputs": [],
   "source": [
    "df[\"LojaID\"] = df[\"LojaID\"].astype(\"object\")"
   ]
  },
  {
   "cell_type": "code",
   "execution_count": 106,
   "id": "4e0a0708",
   "metadata": {},
   "outputs": [
    {
     "data": {
      "text/html": [
       "<div>\n",
       "<style scoped>\n",
       "    .dataframe tbody tr th:only-of-type {\n",
       "        vertical-align: middle;\n",
       "    }\n",
       "\n",
       "    .dataframe tbody tr th {\n",
       "        vertical-align: top;\n",
       "    }\n",
       "\n",
       "    .dataframe thead th {\n",
       "        text-align: right;\n",
       "    }\n",
       "</style>\n",
       "<table border=\"1\" class=\"dataframe\">\n",
       "  <thead>\n",
       "    <tr style=\"text-align: right;\">\n",
       "      <th></th>\n",
       "      <th>Cidade</th>\n",
       "      <th>Data</th>\n",
       "      <th>Vendas</th>\n",
       "      <th>LojaID</th>\n",
       "      <th>Qtde</th>\n",
       "    </tr>\n",
       "  </thead>\n",
       "  <tbody>\n",
       "    <tr>\n",
       "      <th>0</th>\n",
       "      <td>Aracaju</td>\n",
       "      <td>2018-01-01</td>\n",
       "      <td>142.00</td>\n",
       "      <td>1520</td>\n",
       "      <td>1</td>\n",
       "    </tr>\n",
       "    <tr>\n",
       "      <th>1</th>\n",
       "      <td>Aracaju</td>\n",
       "      <td>2018-01-01</td>\n",
       "      <td>14.21</td>\n",
       "      <td>1522</td>\n",
       "      <td>6</td>\n",
       "    </tr>\n",
       "    <tr>\n",
       "      <th>2</th>\n",
       "      <td>Aracaju</td>\n",
       "      <td>2018-01-01</td>\n",
       "      <td>71.55</td>\n",
       "      <td>1520</td>\n",
       "      <td>1</td>\n",
       "    </tr>\n",
       "    <tr>\n",
       "      <th>3</th>\n",
       "      <td>Aracaju</td>\n",
       "      <td>2018-01-01</td>\n",
       "      <td>3.01</td>\n",
       "      <td>1521</td>\n",
       "      <td>7</td>\n",
       "    </tr>\n",
       "    <tr>\n",
       "      <th>4</th>\n",
       "      <td>Aracaju</td>\n",
       "      <td>2018-01-01</td>\n",
       "      <td>24.51</td>\n",
       "      <td>1522</td>\n",
       "      <td>8</td>\n",
       "    </tr>\n",
       "  </tbody>\n",
       "</table>\n",
       "</div>"
      ],
      "text/plain": [
       "    Cidade       Data  Vendas LojaID  Qtde\n",
       "0  Aracaju 2018-01-01  142.00   1520     1\n",
       "1  Aracaju 2018-01-01   14.21   1522     6\n",
       "2  Aracaju 2018-01-01   71.55   1520     1\n",
       "3  Aracaju 2018-01-01    3.01   1521     7\n",
       "4  Aracaju 2018-01-01   24.51   1522     8"
      ]
     },
     "execution_count": 106,
     "metadata": {},
     "output_type": "execute_result"
    }
   ],
   "source": [
    "df.head()"
   ]
  },
  {
   "cell_type": "code",
   "execution_count": 107,
   "id": "52dbf0be",
   "metadata": {},
   "outputs": [],
   "source": [
    "df[\"Receita_Bruta\"] = df[\"Vendas\"] * df[\"Qtde\"]"
   ]
  },
  {
   "cell_type": "code",
   "execution_count": 108,
   "id": "a6f8abbc",
   "metadata": {},
   "outputs": [
    {
     "data": {
      "text/plain": [
       "Cidade\n",
       "Aracaju       48748.25\n",
       "Fortaleza     37913.97\n",
       "Natal        167227.52\n",
       "Recife        51936.51\n",
       "Salvador      40596.73\n",
       "Name: Receita_Bruta, dtype: float64"
      ]
     },
     "execution_count": 108,
     "metadata": {},
     "output_type": "execute_result"
    }
   ],
   "source": [
    "df.groupby(\"Cidade\")[\"Receita_Bruta\"].sum()"
   ]
  },
  {
   "cell_type": "code",
   "execution_count": 125,
   "id": "54b8e6cd",
   "metadata": {},
   "outputs": [
    {
     "data": {
      "image/png": "[encoded data removed]",
      "text/plain": [
       "<Figure size 432x288 with 1 Axes>"
      ]
     },
     "metadata": {},
     "output_type": "display_data"
    }
   ],
   "source": [
    "df.groupby(\"Cidade\")[\"Receita_Bruta\"].sum().plot.pie(title=\"Receita Bruta por Cidade\");\n",
    "plt.savefig(\"Cidade x Receita_Bruta\")"
   ]
  },
  {
   "cell_type": "code",
   "execution_count": 110,
   "id": "e8008286",
   "metadata": {},
   "outputs": [
    {
     "data": {
      "text/plain": [
       "LojaID\n",
       "852     52744.00\n",
       "853     42469.00\n",
       "854     46655.00\n",
       "980     13598.62\n",
       "981     11748.87\n",
       "982     15819.33\n",
       "983     23415.17\n",
       "1002     7983.09\n",
       "1003     6731.86\n",
       "1004     4261.30\n",
       "1005     6292.24\n",
       "1034     8463.75\n",
       "1035    18693.44\n",
       "1036    22235.61\n",
       "1037    16563.45\n",
       "1520    12787.81\n",
       "1521     9421.48\n",
       "1522    15103.92\n",
       "1523    11435.04\n",
       "Name: Receita_Bruta, dtype: float64"
      ]
     },
     "execution_count": 110,
     "metadata": {},
     "output_type": "execute_result"
    }
   ],
   "source": [
    "df.groupby(\"LojaID\")[\"Receita_Bruta\"].sum()"
   ]
  },
  {
   "cell_type": "code",
   "execution_count": 126,
   "id": "00a68a00",
   "metadata": {},
   "outputs": [
    {
     "data": {
      "image/png": "[encoded data removed]",
      "text/plain": [
       "<Figure size 432x288 with 1 Axes>"
      ]
     },
     "metadata": {
      "needs_background": "light"
     },
     "output_type": "display_data"
    }
   ],
   "source": [
    "df.groupby(\"LojaID\")[\"Receita_Bruta\"].sum().plot.barh(title=\"Receita Bruta por Loja\");\n",
    "plt.xlabel(\"Receita Bruta\")\n",
    "plt.ylabel(\"Loja\")\n",
    "plt.savefig(\"LojaID x Receita_Bruta\")"
   ]
  },
  {
   "cell_type": "code",
   "execution_count": 112,
   "id": "da4532c6",
   "metadata": {},
   "outputs": [
    {
     "data": {
      "text/plain": [
       "LojaID\n",
       "852      92\n",
       "853      72\n",
       "854      85\n",
       "980     184\n",
       "981     131\n",
       "982     210\n",
       "983     312\n",
       "1002    116\n",
       "1003     71\n",
       "1004    103\n",
       "1005     90\n",
       "1034    132\n",
       "1035    206\n",
       "1036    234\n",
       "1037    204\n",
       "1520    205\n",
       "1521    111\n",
       "1522    219\n",
       "1523    139\n",
       "Name: Qtde, dtype: int64"
      ]
     },
     "execution_count": 112,
     "metadata": {},
     "output_type": "execute_result"
    }
   ],
   "source": [
    "df.groupby(\"LojaID\")[\"Qtde\"].sum()"
   ]
  },
  {
   "cell_type": "code",
   "execution_count": 127,
   "id": "9a53c9a1",
   "metadata": {},
   "outputs": [
    {
     "data": {
      "image/png": "[encoded data removed]",
      "text/plain": [
       "<Figure size 432x288 with 1 Axes>"
      ]
     },
     "metadata": {
      "needs_background": "light"
     },
     "output_type": "display_data"
    }
   ],
   "source": [
    "df.groupby(\"LojaID\")[\"Qtde\"].sum().plot.bar(title= \"Quantidade Vendida por Loja\");\n",
    "plt.xlabel(\"LojaID\")\n",
    "plt.ylabel(\"Qtde\")\n",
    "plt.savefig(\"LojaID x Qtde\")"
   ]
  },
  {
   "cell_type": "code",
   "execution_count": 114,
   "id": "44f4f424",
   "metadata": {},
   "outputs": [
    {
     "data": {
      "text/plain": [
       "Data\n",
       "2018    118176.53\n",
       "2019    228246.45\n",
       "Name: Receita_Bruta, dtype: float64"
      ]
     },
     "execution_count": 114,
     "metadata": {},
     "output_type": "execute_result"
    }
   ],
   "source": [
    "df.groupby(df[\"Data\"].dt.year)[\"Receita_Bruta\"].sum()"
   ]
  },
  {
   "cell_type": "code",
   "execution_count": 128,
   "id": "f3126532",
   "metadata": {},
   "outputs": [
    {
     "data": {
      "image/png": "[encoded data removed]",
      "text/plain": [
       "<Figure size 432x288 with 1 Axes>"
      ]
     },
     "metadata": {},
     "output_type": "display_data"
    }
   ],
   "source": [
    "df.groupby(df[\"Data\"].dt.year)[\"Receita_Bruta\"].sum().plot.pie();\n",
    "plt.savefig(\"Ano x Receita_Bruta\")"
   ]
  },
  {
   "cell_type": "code",
   "execution_count": 116,
   "id": "2f38d622",
   "metadata": {},
   "outputs": [
    {
     "data": {
      "text/plain": [
       "Data\n",
       "1     188456.50\n",
       "2      37244.47\n",
       "3      67794.01\n",
       "4      13586.00\n",
       "5       8965.00\n",
       "6       7097.00\n",
       "7       4462.00\n",
       "8       1212.00\n",
       "9       5984.00\n",
       "10      9680.00\n",
       "11      1126.00\n",
       "12       816.00\n",
       "Name: Receita_Bruta, dtype: float64"
      ]
     },
     "execution_count": 116,
     "metadata": {},
     "output_type": "execute_result"
    }
   ],
   "source": [
    "df.groupby(df[\"Data\"].dt.month)[\"Receita_Bruta\"].sum()"
   ]
  },
  {
   "cell_type": "code",
   "execution_count": 129,
   "id": "0f962627",
   "metadata": {},
   "outputs": [
    {
     "data": {
      "image/png": "[encoded data removed]",
      "text/plain": [
       "<Figure size 432x288 with 1 Axes>"
      ]
     },
     "metadata": {
      "needs_background": "light"
     },
     "output_type": "display_data"
    }
   ],
   "source": [
    "df.groupby(df[\"Data\"].dt.month)[\"Receita_Bruta\"].sum().plot(title=\"Mês de maior venda\");\n",
    "plt.xlabel(\"Mêses\")\n",
    "plt.ylabel(\"Receita Bruta\")\n",
    "plt.savefig(\"Data x Receita_Bruta\")"
   ]
  },
  {
   "cell_type": "code",
   "execution_count": null,
   "id": "2990f854",
   "metadata": {},
   "outputs": [],
   "source": []
  }
 ],
 "metadata": {
  "kernelspec": {
   "display_name": "Python 3",
   "language": "python",
   "name": "python3"
  },
  "language_info": {
   "codemirror_mode": {
    "name": "ipython",
    "version": 3
   },
   "file_extension": ".py",
   "mimetype": "text/x-python",
   "name": "python",
   "nbconvert_exporter": "python",
   "pygments_lexer": "ipython3",
   "version": "3.8.8"
  }
 },
 "nbformat": 4,
 "nbformat_minor": 5
}
